{
  "nbformat": 4,
  "nbformat_minor": 0,
  "metadata": {
    "colab": {
      "provenance": []
    },
    "kernelspec": {
      "name": "python3",
      "display_name": "Python 3"
    },
    "language_info": {
      "name": "python"
    }
  },
  "cells": [
    {
      "cell_type": "markdown",
      "source": [
        "### Reto 10 - Clase 15\n",
        "Desarrolle la mayoría de ejercicios en clase, por cado punto resuelto en clase tendrá media décima en el examen 2 (créanme, las van a necesitar). Para cada punto cree un programa individual. Al finalizar suba todo a un repo y súbalo al canal reto_11 en slack.\n",
        "\n",
        "**Nota**: Todos los puntos deben estar debidamente comentados y utilizar funciones para su desarrollo.\n",
        "\n"
      ],
      "metadata": {
        "id": "N1zQU7riSpV4"
      }
    },
    {
      "cell_type": "markdown",
      "source": [
        "1. Desarrolle un programa que permita realizar la suma/resta de matrices. El programa debe validar las condiciones necesarias para ejecutar la operación.\n",
        "\n"
      ],
      "metadata": {
        "id": "2_RnBMOBbcSy"
      }
    },
    {
      "cell_type": "code",
      "source": [
        "def ingresar_matriz(filas, columnas):\n",
        "    matriz = []\n",
        "    for i in range(filas):\n",
        "        while True:\n",
        "            fila = input(f\"Ingrese la fila {i+1} (separada por espacios): \").strip().split()\n",
        "            if len(fila) == columnas:\n",
        "                try:\n",
        "                    fila = [float(valor) for valor in fila]\n",
        "                    matriz.append(fila)\n",
        "                    break\n",
        "                except ValueError:\n",
        "                    print(\"Error: Ingrese solo números válidos.\")\n",
        "            else:\n",
        "                print(f\"Error: La fila debe tener {columnas} elementos.\")\n",
        "    return matriz\n",
        "\n",
        "def sumar_matrices(matriz1, matriz2):\n",
        "    filas = len(matriz1)\n",
        "    columnas = len(matriz1[0])\n",
        "    resultado = [[0 for _ in range(columnas)] for _ in range(filas)]\n",
        "\n",
        "    for i in range(filas):\n",
        "        for j in range(columnas):\n",
        "            resultado[i][j] = matriz1[i][j] + matriz2[i][j]\n",
        "\n",
        "    return resultado\n",
        "\n",
        "def restar_matrices(matriz1, matriz2):\n",
        "    filas = len(matriz1)\n",
        "    columnas = len(matriz1[0])\n",
        "    resultado = [[0 for _ in range(columnas)] for _ in range(filas)]\n",
        "\n",
        "    for i in range(filas):\n",
        "        for j in range(columnas):\n",
        "            resultado[i][j] = matriz1[i][j] - matriz2[i][j]\n",
        "\n",
        "    return resultado\n",
        "\n",
        "def imprimir_matriz(matriz):\n",
        "    for fila in matriz:\n",
        "        print(fila)\n",
        "\n",
        "def main():\n",
        "    # Ingresar dimensiones de las matrices\n",
        "    filas = int(input(\"Ingrese el número de filas de las matrices: \"))\n",
        "    columnas = int(input(\"Ingrese el número de columnas de las matrices: \"))\n",
        "\n",
        "    # Ingresar la primera matriz\n",
        "    print(\"\\nIngrese los valores de la primera matriz:\")\n",
        "    matriz1 = ingresar_matriz(filas, columnas)\n",
        "\n",
        "    # Ingresar la segunda matriz\n",
        "    print(\"\\nIngrese los valores de la segunda matriz:\")\n",
        "    matriz2 = ingresar_matriz(filas, columnas)\n",
        "\n",
        "    # Seleccionar operación\n",
        "    operacion = input(\"\\nSeleccione la operación a realizar (suma/resta): \").lower()\n",
        "\n",
        "    if operacion == \"suma\":\n",
        "        resultado = sumar_matrices(matriz1, matriz2)\n",
        "        print(\"\\nEl resultado de la suma es:\")\n",
        "    elif operacion == \"resta\":\n",
        "        resultado = restar_matrices(matriz1, matriz2)\n",
        "        print(\"\\nEl resultado de la resta es:\")\n",
        "    else:\n",
        "        print(\"Operación no válida.\")\n",
        "        return\n",
        "\n",
        "    # Imprimir el resultado\n",
        "    imprimir_matriz(resultado)\n",
        "\n",
        "if __name__ == \"__main__\":\n",
        "    main()\n",
        ""
      ],
      "metadata": {
        "id": "WzzMYf5EcNAG",
        "colab": {
          "base_uri": "https://localhost:8080/"
        },
        "outputId": "61a764eb-7a99-478f-c401-d3d1e0f6dd4a"
      },
      "execution_count": 6,
      "outputs": [
        {
          "output_type": "stream",
          "name": "stdout",
          "text": [
            "Ingrese el número de filas de las matrices: 2\n",
            "Ingrese el número de columnas de las matrices: 3\n",
            "\n",
            "Ingrese los valores de la primera matriz:\n",
            "Ingrese la fila 1 (separada por espacios): 2 4 5 6 7 \n",
            "Error: La fila debe tener 3 elementos.\n",
            "Ingrese la fila 1 (separada por espacios): 1 2 3\n",
            "Ingrese la fila 2 (separada por espacios): 1 2 3\n",
            "\n",
            "Ingrese los valores de la segunda matriz:\n",
            "Ingrese la fila 1 (separada por espacios): 6 5 4\n",
            "Ingrese la fila 2 (separada por espacios): 6 5 4\n",
            "\n",
            "Seleccione la operación a realizar (suma/resta): suma\n",
            "\n",
            "El resultado de la suma es:\n",
            "[7.0, 7.0, 7.0]\n",
            "[7.0, 7.0, 7.0]\n"
          ]
        }
      ]
    },
    {
      "cell_type": "markdown",
      "source": [
        "2. Desarrolle un programa que permita realizar el producto de matrices. El programa debe validar las condiciones necesarias para ejecutar la operación.\n",
        "\n"
      ],
      "metadata": {
        "id": "udtu08Pib4W3"
      }
    },
    {
      "cell_type": "code",
      "source": [
        "def ingresar_matriz(filas, columnas):\n",
        "    matriz = []\n",
        "    for i in range(filas):\n",
        "        while True:\n",
        "            fila = input(f\"Ingrese la fila {i+1} (separada por espacios): \").strip().split()\n",
        "            if len(fila) == columnas:\n",
        "                try:\n",
        "                    fila = [float(valor) for valor in fila]\n",
        "                    matriz.append(fila)\n",
        "                    break\n",
        "                except ValueError:\n",
        "                    print(\"Error: Ingrese solo números válidos.\")\n",
        "            else:\n",
        "                print(f\"Error: La fila debe tener {columnas} elementos.\")\n",
        "    return matriz\n",
        "\n",
        "def multiplicar_matrices(matriz1, matriz2):\n",
        "    filas_matriz1 = len(matriz1)\n",
        "    columnas_matriz1 = len(matriz1[0])\n",
        "    filas_matriz2 = len(matriz2)\n",
        "    columnas_matriz2 = len(matriz2[0])\n",
        "\n",
        "    # Verificar si el producto es posible\n",
        "    if columnas_matriz1 != filas_matriz2:\n",
        "        raise ValueError(\"No se puede multiplicar: el número de columnas de la primera matriz no coincide con el número de filas de la segunda matriz.\")\n",
        "\n",
        "    # Inicializar la matriz resultado con ceros\n",
        "    resultado = [[0 for _ in range(columnas_matriz2)] for _ in range(filas_matriz1)]\n",
        "\n",
        "    # Realizar la multiplicación\n",
        "    for i in range(filas_matriz1):\n",
        "        for j in range(columnas_matriz2):\n",
        "            for k in range(columnas_matriz1):\n",
        "                resultado[i][j] += matriz1[i][k] * matriz2[k][j]\n",
        "\n",
        "    return resultado\n",
        "\n",
        "def imprimir_matriz(matriz):\n",
        "    for fila in matriz:\n",
        "        print(fila)\n",
        "\n",
        "def main():\n",
        "    # Ingresar dimensiones de la primera matriz\n",
        "    filas_matriz1 = int(input(\"Ingrese el número de filas de la primera matriz: \"))\n",
        "    columnas_matriz1 = int(input(\"Ingrese el número de columnas de la primera matriz: \"))\n",
        "\n",
        "    # Ingresar la primera matriz\n",
        "    print(\"\\nIngrese los valores de la primera matriz:\")\n",
        "    matriz1 = ingresar_matriz(filas_matriz1, columnas_matriz1)\n",
        "\n",
        "    # Ingresar dimensiones de la segunda matriz\n",
        "    filas_matriz2 = int(input(\"\\nIngrese el número de filas de la segunda matriz: \"))\n",
        "    columnas_matriz2 = int(input(\"Ingrese el número de columnas de la segunda matriz: \"))\n",
        "\n",
        "    # Validar si el producto es posible\n",
        "    if columnas_matriz1 != filas_matriz2:\n",
        "        print(\"\\nError: No se puede multiplicar. El número de columnas de la primera matriz debe ser igual al número de filas de la segunda matriz.\")\n",
        "        return\n",
        "\n",
        "    # Ingresar la segunda matriz\n",
        "    print(\"\\nIngrese los valores de la segunda matriz:\")\n",
        "    matriz2 = ingresar_matriz(filas_matriz2, columnas_matriz2)\n",
        "\n",
        "    # Realizar el producto\n",
        "    resultado = multiplicar_matrices(matriz1, matriz2)\n",
        "\n",
        "    # Imprimir el resultado\n",
        "    print(\"\\nEl resultado del producto es:\")\n",
        "    imprimir_matriz(resultado)\n",
        "\n",
        "if __name__ == \"__main__\":\n",
        "    main()\n",
        "\n",
        ""
      ],
      "metadata": {
        "id": "5Yw-VgYxcNcX",
        "colab": {
          "base_uri": "https://localhost:8080/"
        },
        "outputId": "da86a485-bcff-4254-b013-6241fc21a9be"
      },
      "execution_count": 9,
      "outputs": [
        {
          "output_type": "stream",
          "name": "stdout",
          "text": [
            "Ingrese el número de filas de la primera matriz: 2\n",
            "Ingrese el número de columnas de la primera matriz: 2\n",
            "\n",
            "Ingrese los valores de la primera matriz:\n",
            "Ingrese la fila 1 (separada por espacios): 2\n",
            "Error: La fila debe tener 2 elementos.\n",
            "Ingrese la fila 1 (separada por espacios): 2 3\n",
            "Ingrese la fila 2 (separada por espacios): 2 4\n",
            "\n",
            "Ingrese el número de filas de la segunda matriz: 2\n",
            "Ingrese el número de columnas de la segunda matriz: 3\n",
            "\n",
            "Ingrese los valores de la segunda matriz:\n",
            "Ingrese la fila 1 (separada por espacios): 2 4 4\n",
            "Ingrese la fila 2 (separada por espacios): 2 5 0\n",
            "\n",
            "El resultado del producto es:\n",
            "[10.0, 23.0, 8.0]\n",
            "[12.0, 28.0, 8.0]\n"
          ]
        }
      ]
    },
    {
      "cell_type": "markdown",
      "source": [
        "3. Desarrolle un programa que permita obtener la matriz transpuesta de una matriz ingresada. El programa debe validar las condiciones necesarias para ejecutar la operación.\n",
        "\n"
      ],
      "metadata": {
        "id": "RL6GTpHMb7CW"
      }
    },
    {
      "cell_type": "code",
      "source": [
        "def ingresar_matriz(filas, columnas):\n",
        "    matriz = []\n",
        "    for i in range(filas):\n",
        "        while True:\n",
        "            fila = input(f\"Ingrese la fila {i+1} (separada por espacios): \").strip().split()\n",
        "            if len(fila) == columnas:\n",
        "                try:\n",
        "                    fila = [float(valor) for valor in fila]\n",
        "                    matriz.append(fila)\n",
        "                    break\n",
        "                except ValueError:\n",
        "                    print(\"Error: Ingrese solo números válidos.\")\n",
        "            else:\n",
        "                print(f\"Error: La fila debe tener {columnas} elementos.\")\n",
        "    return matriz\n",
        "\n",
        "def obtener_transpuesta(matriz):\n",
        "    # Obtener el número de filas y columnas de la matriz original\n",
        "    filas = len(matriz)\n",
        "    columnas = len(matriz[0])\n",
        "\n",
        "    # Crear la matriz transpuesta\n",
        "    transpuesta = [[0 for _ in range(filas)] for _ in range(columnas)]\n",
        "\n",
        "    # Llenar la matriz transpuesta\n",
        "    for i in range(filas):\n",
        "        for j in range(columnas):\n",
        "            transpuesta[j][i] = matriz[i][j]\n",
        "\n",
        "    return transpuesta\n",
        "\n",
        "def imprimir_matriz(matriz):\n",
        "    for fila in matriz:\n",
        "        print(fila)\n",
        "\n",
        "def main():\n",
        "    # Ingresar dimensiones de la matriz\n",
        "    filas = int(input(\"Ingrese el número de filas de la matriz: \"))\n",
        "    columnas = int(input(\"Ingrese el número de columnas de la matriz: \"))\n",
        "\n",
        "    # Ingresar la matriz\n",
        "    print(\"\\nIngrese los valores de la matriz:\")\n",
        "    matriz = ingresar_matriz(filas, columnas)\n",
        "\n",
        "    # Mostrar la matriz original\n",
        "    print(\"\\nLa matriz ingresada es:\")\n",
        "    imprimir_matriz(matriz)\n",
        "\n",
        "    # Obtener la matriz transpuesta\n",
        "    transpuesta = obtener_transpuesta(matriz)\n",
        "\n",
        "    # Mostrar la matriz transpuesta\n",
        "    print(\"\\nLa matriz transpuesta es:\")\n",
        "    imprimir_matriz(transpuesta)\n",
        "\n",
        "if __name__ == \"__main__\":\n",
        "    main()"
      ],
      "metadata": {
        "id": "xD6EMKJqcN4O",
        "colab": {
          "base_uri": "https://localhost:8080/"
        },
        "outputId": "621ff80c-c487-4306-b179-f6ee3af7771d"
      },
      "execution_count": 12,
      "outputs": [
        {
          "output_type": "stream",
          "name": "stdout",
          "text": [
            "Ingrese el número de filas de la matriz: 2\n",
            "Ingrese el número de columnas de la matriz: 2\n",
            "\n",
            "Ingrese los valores de la matriz:\n",
            "Ingrese la fila 1 (separada por espacios): 1 2\n",
            "Ingrese la fila 2 (separada por espacios): 1 2\n",
            "\n",
            "La matriz ingresada es:\n",
            "[1.0, 2.0]\n",
            "[1.0, 2.0]\n",
            "\n",
            "La matriz transpuesta es:\n",
            "[1.0, 1.0]\n",
            "[2.0, 2.0]\n"
          ]
        }
      ]
    },
    {
      "cell_type": "markdown",
      "source": [
        "4. Desarrollar un programa que sume los elementos de una columna dada de una matriz.\n",
        "\n"
      ],
      "metadata": {
        "id": "Nz_QIvOzb8xO"
      }
    },
    {
      "cell_type": "code",
      "source": [
        "def ingresar_matriz(filas, columnas):\n",
        "    matriz = []\n",
        "    for i in range(filas):\n",
        "        while True:\n",
        "            fila = input(f\"Ingrese la fila {i+1} (separada por espacios): \").strip().split()\n",
        "            if len(fila) == columnas:\n",
        "                try:\n",
        "                    fila = [float(valor) for valor in fila]\n",
        "                    matriz.append(fila)\n",
        "                    break\n",
        "                except ValueError:\n",
        "                    print(\"Error: Ingrese solo números válidos.\")\n",
        "            else:\n",
        "                print(f\"Error: La fila debe tener {columnas} elementos.\")\n",
        "    return matriz\n",
        "\n",
        "def sumar_columna(matriz, columna):\n",
        "    suma = 0\n",
        "    for fila in matriz:\n",
        "        suma += fila[columna]\n",
        "    return suma\n",
        "\n",
        "def imprimir_matriz(matriz):\n",
        "    for fila in matriz:\n",
        "        print(fila)\n",
        "\n",
        "def main():\n",
        "    # Ingresar dimensiones de la matriz\n",
        "    filas = int(input(\"Ingrese el número de filas de la matriz: \"))\n",
        "    columnas = int(input(\"Ingrese el número de columnas de la matriz: \"))\n",
        "\n",
        "    # Ingresar la matriz\n",
        "    print(\"\\nIngrese los valores de la matriz:\")\n",
        "    matriz = ingresar_matriz(filas, columnas)\n",
        "\n",
        "    # Mostrar la matriz\n",
        "    print(\"\\nLa matriz ingresada es:\")\n",
        "    imprimir_matriz(matriz)\n",
        "\n",
        "    # Seleccionar columna para sumar\n",
        "    while True:\n",
        "        columna = int(input(f\"\\nIngrese el número de la columna a sumar (1 a {columnas}): \")) - 1\n",
        "        if 0 <= columna < columnas:\n",
        "            break\n",
        "        else:\n",
        "            print(f\"Error: La columna debe estar entre 1 y {columnas}.\")\n",
        "\n",
        "    # Calcular y mostrar la suma de la columna\n",
        "    suma = sumar_columna(matriz, columna)\n",
        "    print(f\"\\nLa suma de la columna {columna + 1} es: {suma}\")\n",
        "\n",
        "if __name__ == \"__main__\":\n",
        "    main()"
      ],
      "metadata": {
        "id": "TDwsQiQVcOR_",
        "colab": {
          "base_uri": "https://localhost:8080/"
        },
        "outputId": "c9f34b82-0d69-4843-d8a3-04f03f2f0889"
      },
      "execution_count": 10,
      "outputs": [
        {
          "output_type": "stream",
          "name": "stdout",
          "text": [
            "Ingrese el número de filas de la matriz: 2\n",
            "Ingrese el número de columnas de la matriz: 2\n",
            "\n",
            "Ingrese los valores de la matriz:\n",
            "Ingrese la fila 1 (separada por espacios): 1 2\n",
            "Ingrese la fila 2 (separada por espacios): 1 2\n",
            "\n",
            "La matriz ingresada es:\n",
            "[1.0, 2.0]\n",
            "[1.0, 2.0]\n",
            "\n",
            "Ingrese el número de la columna a sumar (1 a 2): 2\n",
            "\n",
            "La suma de la columna 2 es: 4.0\n"
          ]
        }
      ]
    },
    {
      "cell_type": "markdown",
      "source": [
        "5. Desarrollar un programa que sume los elementos de una fila dada de una matriz.\n",
        "\n"
      ],
      "metadata": {
        "id": "TB2K__Feb_dG"
      }
    },
    {
      "cell_type": "code",
      "source": [
        "def ingresar_matriz(filas, columnas):\n",
        "    matriz = []\n",
        "    for i in range(filas):\n",
        "        while True:\n",
        "            fila = input(f\"Ingrese la fila {i+1} (separada por espacios): \").strip().split()\n",
        "            if len(fila) == columnas:\n",
        "                try:\n",
        "                    fila = [float(valor) for valor in fila]\n",
        "                    matriz.append(fila)\n",
        "                    break\n",
        "                except ValueError:\n",
        "                    print(\"Error: Ingrese solo números válidos.\")\n",
        "            else:\n",
        "                print(f\"Error: La fila debe tener {columnas} elementos.\")\n",
        "    return matriz\n",
        "\n",
        "def sumar_fila(matriz, fila):\n",
        "    return sum(matriz[fila])\n",
        "\n",
        "def imprimir_matriz(matriz):\n",
        "    for fila in matriz:\n",
        "        print(fila)\n",
        "\n",
        "def main():\n",
        "    # Ingresar dimensiones de la matriz\n",
        "    filas = int(input(\"Ingrese el número de filas de la matriz: \"))\n",
        "    columnas = int(input(\"Ingrese el número de columnas de la matriz: \"))\n",
        "\n",
        "    # Ingresar la matriz\n",
        "    print(\"\\nIngrese los valores de la matriz:\")\n",
        "    matriz = ingresar_matriz(filas, columnas)\n",
        "\n",
        "    # Mostrar la matriz\n",
        "    print(\"\\nLa matriz ingresada es:\")\n",
        "    imprimir_matriz(matriz)\n",
        "\n",
        "    # Seleccionar fila para sumar\n",
        "    while True:\n",
        "        fila = int(input(f\"\\nIngrese el número de la fila a sumar (1 a {filas}): \")) - 1\n",
        "        if 0 <= fila < filas:\n",
        "            break\n",
        "        else:\n",
        "            print(f\"Error: La fila debe estar entre 1 y {filas}.\")\n",
        "\n",
        "    # Calcular y mostrar la suma de la fila\n",
        "    suma = sumar_fila(matriz, fila)\n",
        "    print(f\"\\nLa suma de la fila {fila + 1} es: {suma}\")\n",
        "\n",
        "if __name__ == \"__main__\":\n",
        "    main()\n",
        ""
      ],
      "metadata": {
        "colab": {
          "base_uri": "https://localhost:8080/"
        },
        "id": "eze9hU9B-CP-",
        "outputId": "6e895493-810b-46b2-c12c-9f6e990df8b0"
      },
      "execution_count": 11,
      "outputs": [
        {
          "output_type": "stream",
          "name": "stdout",
          "text": [
            "Ingrese el número de filas de la matriz: 2 \n",
            "Ingrese el número de columnas de la matriz: 2\n",
            "\n",
            "Ingrese los valores de la matriz:\n",
            "Ingrese la fila 1 (separada por espacios): 1 2\n",
            "Ingrese la fila 2 (separada por espacios): 1 2\n",
            "\n",
            "La matriz ingresada es:\n",
            "[1.0, 2.0]\n",
            "[1.0, 2.0]\n",
            "\n",
            "Ingrese el número de la fila a sumar (1 a 2): 1\n",
            "\n",
            "La suma de la fila 1 es: 3.0\n"
          ]
        }
      ]
    }
  ]
}